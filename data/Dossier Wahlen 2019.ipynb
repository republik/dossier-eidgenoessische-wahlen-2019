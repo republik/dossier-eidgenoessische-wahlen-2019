{
 "cells": [
  {
   "cell_type": "markdown",
   "metadata": {},
   "source": [
    "# Dossier Eidgenössische Wahlen 2019"
   ]
  },
  {
   "cell_type": "code",
   "execution_count": 62,
   "metadata": {},
   "outputs": [],
   "source": [
    "import pandas as pd\n",
    "import matplotlib.pyplot as plt\n",
    "\n",
    "%matplotlib inline\n",
    "plt.rcParams[\"figure.figsize\"] = [20, 5]\n",
    "\n",
    "def format_csv(df, skip_index=False):\n",
    "    'Reformats data for display in chart'\n",
    "    rows = []\n",
    "    for index, row in df.iterrows():\n",
    "        for key, val in row.iteritems():\n",
    "            if skip_index:\n",
    "                rows.append([key,val])\n",
    "            else:\n",
    "                rows.append([\"%s\" % index,key,val])\n",
    "    return rows"
   ]
  },
  {
   "cell_type": "markdown",
   "metadata": {},
   "source": [
    "## Parteistärken Nationalrat\n",
    "\n",
    "Quelle: [«Nationalratswahlen: Stärke der Parteien» (BFS)](https://www.bfs.admin.ch/bfs/de/home/statistiken/politik/wahlen/nationalratswahlen.assetdetail.217191.html)"
   ]
  },
  {
   "cell_type": "code",
   "execution_count": 63,
   "metadata": {},
   "outputs": [],
   "source": [
    "VOTE_FILE = './je-d-17.02.02.03.01.xlsx'#'https://www.bfs.admin.ch/bfsstatic/dam/assets/217191/master'"
   ]
  },
  {
   "cell_type": "code",
   "execution_count": 64,
   "metadata": {},
   "outputs": [],
   "source": [
    "vote_data = pd.read_excel(VOTE_FILE, skiprows=[0,1,2,4,5], skipfooter=16, index_col='Partei')\n",
    "vote_data = vote_data.dropna()\n",
    "vote_data = vote_data.rename(columns={'1939 2)': '1939'})\n",
    "vote_data = vote_data.T\n",
    "vote_data.index = vote_data.index.astype(int)\n",
    "vote_data = vote_data.drop('Total', axis=1)\n",
    "vote_data = vote_data.replace({'*': 0, '-> FDP': 0, '->FDP': 0, '-> Übrige': 0})\n",
    "vote_data = vote_data.rename(columns={'FDP 3)': 'FDP'})\n",
    "vote_data /= 100\n",
    "major_parties = [\"GPS\", \"SP\", \"CVP\", \"GLP\", \"FDP\", \"BDP\", \"SVP\"]\n",
    "vote_data_selected = vote_data[major_parties].copy()\n",
    "vote_data_selected['Übrige'] = vote_data.drop(major_parties, axis=1).sum(axis=1)\n",
    "vote_data_selected = vote_data_selected.sort_index(ascending=False)"
   ]
  },
  {
   "cell_type": "code",
   "execution_count": 65,
   "metadata": {},
   "outputs": [],
   "source": [
    "assert pd.Series(vote_data_selected.sum(axis=1) > 0.95).all()"
   ]
  },
  {
   "cell_type": "code",
   "execution_count": 66,
   "metadata": {},
   "outputs": [
    {
     "data": {
      "image/png": "[encoded data removed]",
      "text/plain": [
       "<Figure size 1440x360 with 1 Axes>"
      ]
     },
     "metadata": {
      "needs_background": "light"
     },
     "output_type": "display_data"
    }
   ],
   "source": [
    "vote_data_selected.plot(kind='barh', stacked=True);"
   ]
  },
  {
   "cell_type": "code",
   "execution_count": 76,
   "metadata": {},
   "outputs": [],
   "source": [
    "vote_data_display = pd.DataFrame(format_csv(vote_data_selected.loc[:1987]), columns=['year', 'party', 'value'])\n",
    "vote_data_display.to_csv('./vote_shares_historic.csv', float_format='%.6f', index=False)"
   ]
  },
  {
   "cell_type": "markdown",
   "metadata": {},
   "source": [
    "## Sitzverteilung Ständerat\n",
    "\n",
    "Quelle: [«Ständeratswahlen: Mandatsverteilung nach Parteien» (BFS)](https://www.bfs.admin.ch/bfs/de/home/statistiken/politik/wahlen/staenderatswahlen.assetdetail.81547.html)"
   ]
  },
  {
   "cell_type": "code",
   "execution_count": 68,
   "metadata": {},
   "outputs": [],
   "source": [
    "SEATS_FILE = './je-d-17.02.03.01.xlsx' # 'https://www.bfs.admin.ch/bfsstatic/dam/assets/81547/master'\n",
    "seats_data = pd.read_excel(SEATS_FILE, skiprows=[0,1,2,4,5,6,7], skipfooter=14, index_col='Partei')"
   ]
  },
  {
   "cell_type": "code",
   "execution_count": 69,
   "metadata": {},
   "outputs": [
    {
     "data": {
      "text/html": [
       "<div>\n",
       "<style scoped>\n",
       "    .dataframe tbody tr th:only-of-type {\n",
       "        vertical-align: middle;\n",
       "    }\n",
       "\n",
       "    .dataframe tbody tr th {\n",
       "        vertical-align: top;\n",
       "    }\n",
       "\n",
       "    .dataframe thead th {\n",
       "        text-align: right;\n",
       "    }\n",
       "</style>\n",
       "<table border=\"1\" class=\"dataframe\">\n",
       "  <thead>\n",
       "    <tr style=\"text-align: right;\">\n",
       "      <th>Partei</th>\n",
       "      <th>GPS</th>\n",
       "      <th>SP</th>\n",
       "      <th>CVP</th>\n",
       "      <th>GLP</th>\n",
       "      <th>FDP</th>\n",
       "      <th>BDP</th>\n",
       "      <th>SVP</th>\n",
       "      <th>Übrige</th>\n",
       "    </tr>\n",
       "  </thead>\n",
       "  <tbody>\n",
       "    <tr>\n",
       "      <td>2015</td>\n",
       "      <td>1</td>\n",
       "      <td>12</td>\n",
       "      <td>13</td>\n",
       "      <td>0</td>\n",
       "      <td>13</td>\n",
       "      <td>1</td>\n",
       "      <td>5</td>\n",
       "      <td>1.0</td>\n",
       "    </tr>\n",
       "    <tr>\n",
       "      <td>2011</td>\n",
       "      <td>2</td>\n",
       "      <td>11</td>\n",
       "      <td>13</td>\n",
       "      <td>2</td>\n",
       "      <td>11</td>\n",
       "      <td>1</td>\n",
       "      <td>5</td>\n",
       "      <td>1.0</td>\n",
       "    </tr>\n",
       "    <tr>\n",
       "      <td>2007</td>\n",
       "      <td>2</td>\n",
       "      <td>9</td>\n",
       "      <td>15</td>\n",
       "      <td>1</td>\n",
       "      <td>12</td>\n",
       "      <td>0</td>\n",
       "      <td>7</td>\n",
       "      <td>0.0</td>\n",
       "    </tr>\n",
       "    <tr>\n",
       "      <td>2003</td>\n",
       "      <td>0</td>\n",
       "      <td>9</td>\n",
       "      <td>15</td>\n",
       "      <td>0</td>\n",
       "      <td>14</td>\n",
       "      <td>0</td>\n",
       "      <td>8</td>\n",
       "      <td>0.0</td>\n",
       "    </tr>\n",
       "    <tr>\n",
       "      <td>1999</td>\n",
       "      <td>0</td>\n",
       "      <td>6</td>\n",
       "      <td>15</td>\n",
       "      <td>0</td>\n",
       "      <td>17</td>\n",
       "      <td>0</td>\n",
       "      <td>7</td>\n",
       "      <td>1.0</td>\n",
       "    </tr>\n",
       "    <tr>\n",
       "      <td>1995</td>\n",
       "      <td>0</td>\n",
       "      <td>5</td>\n",
       "      <td>16</td>\n",
       "      <td>0</td>\n",
       "      <td>17</td>\n",
       "      <td>0</td>\n",
       "      <td>5</td>\n",
       "      <td>3.0</td>\n",
       "    </tr>\n",
       "    <tr>\n",
       "      <td>1991</td>\n",
       "      <td>0</td>\n",
       "      <td>3</td>\n",
       "      <td>16</td>\n",
       "      <td>0</td>\n",
       "      <td>18</td>\n",
       "      <td>0</td>\n",
       "      <td>4</td>\n",
       "      <td>5.0</td>\n",
       "    </tr>\n",
       "    <tr>\n",
       "      <td>1987</td>\n",
       "      <td>0</td>\n",
       "      <td>5</td>\n",
       "      <td>19</td>\n",
       "      <td>0</td>\n",
       "      <td>14</td>\n",
       "      <td>0</td>\n",
       "      <td>4</td>\n",
       "      <td>4.0</td>\n",
       "    </tr>\n",
       "  </tbody>\n",
       "</table>\n",
       "</div>"
      ],
      "text/plain": [
       "Partei GPS  SP CVP GLP FDP BDP SVP  Übrige\n",
       "2015     1  12  13   0  13   1   5     1.0\n",
       "2011     2  11  13   2  11   1   5     1.0\n",
       "2007     2   9  15   1  12   0   7     0.0\n",
       "2003     0   9  15   0  14   0   8     0.0\n",
       "1999     0   6  15   0  17   0   7     1.0\n",
       "1995     0   5  16   0  17   0   5     3.0\n",
       "1991     0   3  16   0  18   0   4     5.0\n",
       "1987     0   5  19   0  14   0   4     4.0"
      ]
     },
     "execution_count": 69,
     "metadata": {},
     "output_type": "execute_result"
    }
   ],
   "source": [
    "SEATS_FILE = './je-d-17.02.03.01.xlsx' # 'https://www.bfs.admin.ch/bfsstatic/dam/assets/81547/master'\n",
    "seats_data = pd.read_excel(SEATS_FILE, skiprows=[0,1,2,4,5,6,7], skipfooter=14, index_col='Partei')\n",
    "seats_data = seats_data.dropna()\n",
    "seats_data = seats_data.rename(columns={'1979 1)': '1979'})\n",
    "seats_data = seats_data.T\n",
    "seats_data.index = seats_data.index.astype(int)\n",
    "seats_data = seats_data.replace({'*': 0, '-> FDP': 0, '->FDP': 0, '-> Übrige': 0})\n",
    "seats_data = seats_data.rename(columns={'FDP 2)': 'FDP'})\n",
    "\n",
    "seats_data_selected = seats_data[major_parties].loc[1987:].copy()\n",
    "seats_data_selected['Übrige'] = seats_data.drop(major_parties, axis=1).sum(axis=1)\n",
    "seats_data_selected = seats_data_selected.sort_index(ascending=False)\n",
    "\n",
    "seats_data_selected#.plot(kind='barh', stacked=True);"
   ]
  },
  {
   "cell_type": "code",
   "execution_count": 70,
   "metadata": {},
   "outputs": [],
   "source": [
    "assert pd.Series(seats_data_selected.sum(axis=1) == 46).all()"
   ]
  },
  {
   "cell_type": "code",
   "execution_count": 71,
   "metadata": {},
   "outputs": [],
   "source": [
    "seats_data_display = pd.DataFrame(format_csv(seats_data_selected.loc[:1987]), columns=['year', 'party', 'value'])\n",
    "seats_data_display.to_csv('./seats_per_party.csv', float_format='%.6f', index=False)"
   ]
  },
  {
   "cell_type": "markdown",
   "metadata": {},
   "source": [
    "## Wahlbeteiligung\n",
    "\n",
    "Quelle: [«Nationalratswahlen: Wahlbeteiligung» (BFS)](https://www.bfs.admin.ch/bfs/de/home/statistiken/politik/wahlen/nationalratswahlen/wahlbeteiligung.assetdetail.217210.html)"
   ]
  },
  {
   "cell_type": "code",
   "execution_count": 72,
   "metadata": {},
   "outputs": [],
   "source": [
    "TURNOUT_FILE = './je-d-17.02.02.04.03.xlsx' #'https://www.bfs.admin.ch/bfsstatic/dam/assets/217210/master'\n",
    "turnout_data = pd.read_excel(TURNOUT_FILE, skiprows=6, index_col=0, skipfooter=9, usecols=[0,1], names=['year', 'value'])"
   ]
  },
  {
   "cell_type": "code",
   "execution_count": 73,
   "metadata": {},
   "outputs": [
    {
     "data": {
      "image/png": "[encoded data removed]",
      "text/plain": [
       "<Figure size 1440x360 with 1 Axes>"
      ]
     },
     "metadata": {
      "needs_background": "light"
     },
     "output_type": "display_data"
    }
   ],
   "source": [
    "turnout_data_display = turnout_data\n",
    "turnout_data_display.plot(kind='bar');"
   ]
  },
  {
   "cell_type": "code",
   "execution_count": 74,
   "metadata": {},
   "outputs": [],
   "source": [
    "turnout_data_display.to_csv('./turnout_historic.csv', float_format='%.4f')"
   ]
  },
  {
   "cell_type": "code",
   "execution_count": null,
   "metadata": {},
   "outputs": [],
   "source": []
  }
 ],
 "metadata": {
  "kernelspec": {
   "display_name": "Python 3",
   "language": "python",
   "name": "python3"
  },
  "language_info": {
   "codemirror_mode": {
    "name": "ipython",
    "version": 3
   },
   "file_extension": ".py",
   "mimetype": "text/x-python",
   "name": "python",
   "nbconvert_exporter": "python",
   "pygments_lexer": "ipython3",
   "version": "3.7.3"
  }
 },
 "nbformat": 4,
 "nbformat_minor": 4
}
